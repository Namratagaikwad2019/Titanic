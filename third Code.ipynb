{
 "cells": [
  {
   "cell_type": "code",
   "execution_count": 1,
   "id": "feeda81f",
   "metadata": {},
   "outputs": [],
   "source": [
    "import pandas as pd"
   ]
  },
  {
   "cell_type": "code",
   "execution_count": 2,
   "id": "ba80a495",
   "metadata": {},
   "outputs": [],
   "source": [
    "df_train = pd.read_csv('train.csv')\n",
    "df_test = pd.read_csv('test.csv')"
   ]
  },
  {
   "cell_type": "code",
   "execution_count": 3,
   "id": "0b79f442",
   "metadata": {},
   "outputs": [
    {
     "data": {
      "text/html": [
       "<div>\n",
       "<style scoped>\n",
       "    .dataframe tbody tr th:only-of-type {\n",
       "        vertical-align: middle;\n",
       "    }\n",
       "\n",
       "    .dataframe tbody tr th {\n",
       "        vertical-align: top;\n",
       "    }\n",
       "\n",
       "    .dataframe thead th {\n",
       "        text-align: right;\n",
       "    }\n",
       "</style>\n",
       "<table border=\"1\" class=\"dataframe\">\n",
       "  <thead>\n",
       "    <tr style=\"text-align: right;\">\n",
       "      <th></th>\n",
       "      <th>PassengerId</th>\n",
       "      <th>Survived</th>\n",
       "      <th>Pclass</th>\n",
       "      <th>Name</th>\n",
       "      <th>Sex</th>\n",
       "      <th>Age</th>\n",
       "      <th>SibSp</th>\n",
       "      <th>Parch</th>\n",
       "      <th>Ticket</th>\n",
       "      <th>Fare</th>\n",
       "      <th>Cabin</th>\n",
       "      <th>Embarked</th>\n",
       "    </tr>\n",
       "  </thead>\n",
       "  <tbody>\n",
       "    <tr>\n",
       "      <th>0</th>\n",
       "      <td>1</td>\n",
       "      <td>0</td>\n",
       "      <td>3</td>\n",
       "      <td>Braund, Mr. Owen Harris</td>\n",
       "      <td>male</td>\n",
       "      <td>22.0</td>\n",
       "      <td>1</td>\n",
       "      <td>0</td>\n",
       "      <td>A/5 21171</td>\n",
       "      <td>7.2500</td>\n",
       "      <td>NaN</td>\n",
       "      <td>S</td>\n",
       "    </tr>\n",
       "    <tr>\n",
       "      <th>1</th>\n",
       "      <td>2</td>\n",
       "      <td>1</td>\n",
       "      <td>1</td>\n",
       "      <td>Cumings, Mrs. John Bradley (Florence Briggs Th...</td>\n",
       "      <td>female</td>\n",
       "      <td>38.0</td>\n",
       "      <td>1</td>\n",
       "      <td>0</td>\n",
       "      <td>PC 17599</td>\n",
       "      <td>71.2833</td>\n",
       "      <td>C85</td>\n",
       "      <td>C</td>\n",
       "    </tr>\n",
       "    <tr>\n",
       "      <th>2</th>\n",
       "      <td>3</td>\n",
       "      <td>1</td>\n",
       "      <td>3</td>\n",
       "      <td>Heikkinen, Miss. Laina</td>\n",
       "      <td>female</td>\n",
       "      <td>26.0</td>\n",
       "      <td>0</td>\n",
       "      <td>0</td>\n",
       "      <td>STON/O2. 3101282</td>\n",
       "      <td>7.9250</td>\n",
       "      <td>NaN</td>\n",
       "      <td>S</td>\n",
       "    </tr>\n",
       "    <tr>\n",
       "      <th>3</th>\n",
       "      <td>4</td>\n",
       "      <td>1</td>\n",
       "      <td>1</td>\n",
       "      <td>Futrelle, Mrs. Jacques Heath (Lily May Peel)</td>\n",
       "      <td>female</td>\n",
       "      <td>35.0</td>\n",
       "      <td>1</td>\n",
       "      <td>0</td>\n",
       "      <td>113803</td>\n",
       "      <td>53.1000</td>\n",
       "      <td>C123</td>\n",
       "      <td>S</td>\n",
       "    </tr>\n",
       "    <tr>\n",
       "      <th>4</th>\n",
       "      <td>5</td>\n",
       "      <td>0</td>\n",
       "      <td>3</td>\n",
       "      <td>Allen, Mr. William Henry</td>\n",
       "      <td>male</td>\n",
       "      <td>35.0</td>\n",
       "      <td>0</td>\n",
       "      <td>0</td>\n",
       "      <td>373450</td>\n",
       "      <td>8.0500</td>\n",
       "      <td>NaN</td>\n",
       "      <td>S</td>\n",
       "    </tr>\n",
       "  </tbody>\n",
       "</table>\n",
       "</div>"
      ],
      "text/plain": [
       "   PassengerId  Survived  Pclass  \\\n",
       "0            1         0       3   \n",
       "1            2         1       1   \n",
       "2            3         1       3   \n",
       "3            4         1       1   \n",
       "4            5         0       3   \n",
       "\n",
       "                                                Name     Sex   Age  SibSp  \\\n",
       "0                            Braund, Mr. Owen Harris    male  22.0      1   \n",
       "1  Cumings, Mrs. John Bradley (Florence Briggs Th...  female  38.0      1   \n",
       "2                             Heikkinen, Miss. Laina  female  26.0      0   \n",
       "3       Futrelle, Mrs. Jacques Heath (Lily May Peel)  female  35.0      1   \n",
       "4                           Allen, Mr. William Henry    male  35.0      0   \n",
       "\n",
       "   Parch            Ticket     Fare Cabin Embarked  \n",
       "0      0         A/5 21171   7.2500   NaN        S  \n",
       "1      0          PC 17599  71.2833   C85        C  \n",
       "2      0  STON/O2. 3101282   7.9250   NaN        S  \n",
       "3      0            113803  53.1000  C123        S  \n",
       "4      0            373450   8.0500   NaN        S  "
      ]
     },
     "execution_count": 3,
     "metadata": {},
     "output_type": "execute_result"
    }
   ],
   "source": [
    "df_train.head()"
   ]
  },
  {
   "cell_type": "code",
   "execution_count": 4,
   "id": "066fa235",
   "metadata": {},
   "outputs": [
    {
     "data": {
      "text/plain": [
       "['Pclass', 'Age', 'SibSp', 'Parch', 'Fare']"
      ]
     },
     "execution_count": 4,
     "metadata": {},
     "output_type": "execute_result"
    }
   ],
   "source": [
    "numeric_cols = list(df_train.select_dtypes(exclude='object').columns)\n",
    "numeric_cols.remove('PassengerId')\n",
    "numeric_cols.remove('Survived')\n",
    "numeric_cols"
   ]
  },
  {
   "cell_type": "code",
   "execution_count": 5,
   "id": "58d70fe5",
   "metadata": {},
   "outputs": [
    {
     "data": {
      "text/plain": [
       "['Sex', 'Embarked']"
      ]
     },
     "execution_count": 5,
     "metadata": {},
     "output_type": "execute_result"
    }
   ],
   "source": [
    "cat_cols = list(df_train.select_dtypes(include='object').columns)\n",
    "cat_cols.remove('Name')\n",
    "cat_cols.remove('Ticket')\n",
    "cat_cols.remove('Cabin')\n",
    "cat_cols"
   ]
  },
  {
   "cell_type": "markdown",
   "id": "924a4c81",
   "metadata": {},
   "source": [
    "# Fill missing data"
   ]
  },
  {
   "cell_type": "code",
   "execution_count": 6,
   "id": "54e07c16",
   "metadata": {},
   "outputs": [],
   "source": [
    "from sklearn.impute import SimpleImputer\n",
    "imputer_num = SimpleImputer(strategy='median')\n",
    "imputer_cat = SimpleImputer(strategy='most_frequent')\n",
    "\n",
    "imputer_num.fit(df_train[numeric_cols])\n",
    "imputer_cat.fit(df_train[cat_cols])\n",
    "\n",
    "df_train[numeric_cols] = imputer_num.transform(df_train[numeric_cols])\n",
    "df_train[cat_cols] = imputer_cat.transform(df_train[cat_cols])\n",
    "\n",
    "df_test[numeric_cols] = imputer_num.transform(df_test[numeric_cols])\n",
    "df_test[cat_cols] = imputer_cat.transform(df_test[cat_cols])"
   ]
  },
  {
   "cell_type": "code",
   "execution_count": 7,
   "id": "075669ed",
   "metadata": {},
   "outputs": [
    {
     "data": {
      "text/plain": [
       "(Pclass    0\n",
       " Age       0\n",
       " SibSp     0\n",
       " Parch     0\n",
       " Fare      0\n",
       " dtype: int64,\n",
       " Sex         0\n",
       " Embarked    0\n",
       " dtype: int64)"
      ]
     },
     "execution_count": 7,
     "metadata": {},
     "output_type": "execute_result"
    }
   ],
   "source": [
    "df_train[numeric_cols].isna().sum(), df_train[cat_cols].isna().sum()"
   ]
  },
  {
   "cell_type": "code",
   "execution_count": 8,
   "id": "15f9f558",
   "metadata": {},
   "outputs": [
    {
     "data": {
      "text/plain": [
       "(Pclass    0\n",
       " Age       0\n",
       " SibSp     0\n",
       " Parch     0\n",
       " Fare      0\n",
       " dtype: int64,\n",
       " Sex         0\n",
       " Embarked    0\n",
       " dtype: int64)"
      ]
     },
     "execution_count": 8,
     "metadata": {},
     "output_type": "execute_result"
    }
   ],
   "source": [
    "df_test[numeric_cols].isna().sum(), df_test[cat_cols].isna().sum()"
   ]
  },
  {
   "cell_type": "code",
   "execution_count": 9,
   "id": "1a872222",
   "metadata": {},
   "outputs": [],
   "source": [
    "df_train['Title'] = df_train['Name'].apply(lambda name:name.split('.')[0].split(' ')[1])\n",
    "df_test['Title'] = df_test['Name'].apply(lambda name:name.split('.')[0].split(' ')[1])"
   ]
  },
  {
   "cell_type": "code",
   "execution_count": 10,
   "id": "ff1d6de8",
   "metadata": {},
   "outputs": [
    {
     "data": {
      "text/plain": [
       "['Mr', 'Miss', 'Mrs', 'Master']"
      ]
     },
     "execution_count": 10,
     "metadata": {},
     "output_type": "execute_result"
    }
   ],
   "source": [
    "titles = list(df_train['Title'].value_counts().iloc[:4].index)\n",
    "titles"
   ]
  },
  {
   "cell_type": "code",
   "execution_count": 11,
   "id": "acf5fda3",
   "metadata": {},
   "outputs": [],
   "source": [
    "df_train['Title'] = df_train['Title'].apply(lambda X:X if X in titles else 'other')\n",
    "df_test['Title'] = df_test['Title'].apply(lambda X:X if X in titles else 'other')"
   ]
  },
  {
   "cell_type": "code",
   "execution_count": 12,
   "id": "e0ef0c7e",
   "metadata": {},
   "outputs": [
    {
     "data": {
      "text/plain": [
       "0         Mr\n",
       "1        Mrs\n",
       "2       Miss\n",
       "3        Mrs\n",
       "4         Mr\n",
       "       ...  \n",
       "886    other\n",
       "887     Miss\n",
       "888     Miss\n",
       "889       Mr\n",
       "890       Mr\n",
       "Name: Title, Length: 891, dtype: object"
      ]
     },
     "execution_count": 12,
     "metadata": {},
     "output_type": "execute_result"
    }
   ],
   "source": [
    "df_train['Title']"
   ]
  },
  {
   "cell_type": "markdown",
   "id": "5a2fefe6",
   "metadata": {},
   "source": [
    "# Feature Encoding"
   ]
  },
  {
   "cell_type": "code",
   "execution_count": 13,
   "id": "95042d7d",
   "metadata": {},
   "outputs": [
    {
     "data": {
      "text/plain": [
       "['Sex', 'Embarked', 'Title']"
      ]
     },
     "execution_count": 13,
     "metadata": {},
     "output_type": "execute_result"
    }
   ],
   "source": [
    "cat_cols.append('Title')\n",
    "cat_cols"
   ]
  },
  {
   "cell_type": "code",
   "execution_count": 14,
   "id": "a0ca3fdd",
   "metadata": {},
   "outputs": [
    {
     "data": {
      "text/plain": [
       "OneHotEncoder(sparse=False)"
      ]
     },
     "execution_count": 14,
     "metadata": {},
     "output_type": "execute_result"
    }
   ],
   "source": [
    "from sklearn.preprocessing import OneHotEncoder\n",
    "ohe = OneHotEncoder(sparse=False)\n",
    "ohe.fit(df_train[cat_cols])"
   ]
  },
  {
   "cell_type": "code",
   "execution_count": 17,
   "id": "55c14003",
   "metadata": {},
   "outputs": [
    {
     "data": {
      "text/plain": [
       "['x0_female',\n",
       " 'x0_male',\n",
       " 'x1_C',\n",
       " 'x1_Q',\n",
       " 'x1_S',\n",
       " 'x2_Master',\n",
       " 'x2_Miss',\n",
       " 'x2_Mr',\n",
       " 'x2_Mrs',\n",
       " 'x2_other']"
      ]
     },
     "execution_count": 17,
     "metadata": {},
     "output_type": "execute_result"
    }
   ],
   "source": [
    "new_cols = list(ohe.get_feature_names())\n",
    "new_cols"
   ]
  },
  {
   "cell_type": "code",
   "execution_count": 18,
   "id": "fb836028",
   "metadata": {},
   "outputs": [],
   "source": [
    "df_train[new_cols] = ohe.transform(df_train[cat_cols])"
   ]
  },
  {
   "cell_type": "code",
   "execution_count": 19,
   "id": "5cbbb48b",
   "metadata": {},
   "outputs": [],
   "source": [
    "df_test[new_cols] = ohe.transform(df_test[cat_cols])"
   ]
  },
  {
   "cell_type": "code",
   "execution_count": 20,
   "id": "8bd8a7c2",
   "metadata": {},
   "outputs": [
    {
     "data": {
      "text/html": [
       "<div>\n",
       "<style scoped>\n",
       "    .dataframe tbody tr th:only-of-type {\n",
       "        vertical-align: middle;\n",
       "    }\n",
       "\n",
       "    .dataframe tbody tr th {\n",
       "        vertical-align: top;\n",
       "    }\n",
       "\n",
       "    .dataframe thead th {\n",
       "        text-align: right;\n",
       "    }\n",
       "</style>\n",
       "<table border=\"1\" class=\"dataframe\">\n",
       "  <thead>\n",
       "    <tr style=\"text-align: right;\">\n",
       "      <th></th>\n",
       "      <th>PassengerId</th>\n",
       "      <th>Survived</th>\n",
       "      <th>Pclass</th>\n",
       "      <th>Name</th>\n",
       "      <th>Sex</th>\n",
       "      <th>Age</th>\n",
       "      <th>SibSp</th>\n",
       "      <th>Parch</th>\n",
       "      <th>Ticket</th>\n",
       "      <th>Fare</th>\n",
       "      <th>...</th>\n",
       "      <th>x0_female</th>\n",
       "      <th>x0_male</th>\n",
       "      <th>x1_C</th>\n",
       "      <th>x1_Q</th>\n",
       "      <th>x1_S</th>\n",
       "      <th>x2_Master</th>\n",
       "      <th>x2_Miss</th>\n",
       "      <th>x2_Mr</th>\n",
       "      <th>x2_Mrs</th>\n",
       "      <th>x2_other</th>\n",
       "    </tr>\n",
       "  </thead>\n",
       "  <tbody>\n",
       "    <tr>\n",
       "      <th>0</th>\n",
       "      <td>1</td>\n",
       "      <td>0</td>\n",
       "      <td>3.0</td>\n",
       "      <td>Braund, Mr. Owen Harris</td>\n",
       "      <td>male</td>\n",
       "      <td>22.0</td>\n",
       "      <td>1.0</td>\n",
       "      <td>0.0</td>\n",
       "      <td>A/5 21171</td>\n",
       "      <td>7.2500</td>\n",
       "      <td>...</td>\n",
       "      <td>0.0</td>\n",
       "      <td>1.0</td>\n",
       "      <td>0.0</td>\n",
       "      <td>0.0</td>\n",
       "      <td>1.0</td>\n",
       "      <td>0.0</td>\n",
       "      <td>0.0</td>\n",
       "      <td>1.0</td>\n",
       "      <td>0.0</td>\n",
       "      <td>0.0</td>\n",
       "    </tr>\n",
       "    <tr>\n",
       "      <th>1</th>\n",
       "      <td>2</td>\n",
       "      <td>1</td>\n",
       "      <td>1.0</td>\n",
       "      <td>Cumings, Mrs. John Bradley (Florence Briggs Th...</td>\n",
       "      <td>female</td>\n",
       "      <td>38.0</td>\n",
       "      <td>1.0</td>\n",
       "      <td>0.0</td>\n",
       "      <td>PC 17599</td>\n",
       "      <td>71.2833</td>\n",
       "      <td>...</td>\n",
       "      <td>1.0</td>\n",
       "      <td>0.0</td>\n",
       "      <td>1.0</td>\n",
       "      <td>0.0</td>\n",
       "      <td>0.0</td>\n",
       "      <td>0.0</td>\n",
       "      <td>0.0</td>\n",
       "      <td>0.0</td>\n",
       "      <td>1.0</td>\n",
       "      <td>0.0</td>\n",
       "    </tr>\n",
       "    <tr>\n",
       "      <th>2</th>\n",
       "      <td>3</td>\n",
       "      <td>1</td>\n",
       "      <td>3.0</td>\n",
       "      <td>Heikkinen, Miss. Laina</td>\n",
       "      <td>female</td>\n",
       "      <td>26.0</td>\n",
       "      <td>0.0</td>\n",
       "      <td>0.0</td>\n",
       "      <td>STON/O2. 3101282</td>\n",
       "      <td>7.9250</td>\n",
       "      <td>...</td>\n",
       "      <td>1.0</td>\n",
       "      <td>0.0</td>\n",
       "      <td>0.0</td>\n",
       "      <td>0.0</td>\n",
       "      <td>1.0</td>\n",
       "      <td>0.0</td>\n",
       "      <td>1.0</td>\n",
       "      <td>0.0</td>\n",
       "      <td>0.0</td>\n",
       "      <td>0.0</td>\n",
       "    </tr>\n",
       "    <tr>\n",
       "      <th>3</th>\n",
       "      <td>4</td>\n",
       "      <td>1</td>\n",
       "      <td>1.0</td>\n",
       "      <td>Futrelle, Mrs. Jacques Heath (Lily May Peel)</td>\n",
       "      <td>female</td>\n",
       "      <td>35.0</td>\n",
       "      <td>1.0</td>\n",
       "      <td>0.0</td>\n",
       "      <td>113803</td>\n",
       "      <td>53.1000</td>\n",
       "      <td>...</td>\n",
       "      <td>1.0</td>\n",
       "      <td>0.0</td>\n",
       "      <td>0.0</td>\n",
       "      <td>0.0</td>\n",
       "      <td>1.0</td>\n",
       "      <td>0.0</td>\n",
       "      <td>0.0</td>\n",
       "      <td>0.0</td>\n",
       "      <td>1.0</td>\n",
       "      <td>0.0</td>\n",
       "    </tr>\n",
       "    <tr>\n",
       "      <th>4</th>\n",
       "      <td>5</td>\n",
       "      <td>0</td>\n",
       "      <td>3.0</td>\n",
       "      <td>Allen, Mr. William Henry</td>\n",
       "      <td>male</td>\n",
       "      <td>35.0</td>\n",
       "      <td>0.0</td>\n",
       "      <td>0.0</td>\n",
       "      <td>373450</td>\n",
       "      <td>8.0500</td>\n",
       "      <td>...</td>\n",
       "      <td>0.0</td>\n",
       "      <td>1.0</td>\n",
       "      <td>0.0</td>\n",
       "      <td>0.0</td>\n",
       "      <td>1.0</td>\n",
       "      <td>0.0</td>\n",
       "      <td>0.0</td>\n",
       "      <td>1.0</td>\n",
       "      <td>0.0</td>\n",
       "      <td>0.0</td>\n",
       "    </tr>\n",
       "  </tbody>\n",
       "</table>\n",
       "<p>5 rows × 23 columns</p>\n",
       "</div>"
      ],
      "text/plain": [
       "   PassengerId  Survived  Pclass  \\\n",
       "0            1         0     3.0   \n",
       "1            2         1     1.0   \n",
       "2            3         1     3.0   \n",
       "3            4         1     1.0   \n",
       "4            5         0     3.0   \n",
       "\n",
       "                                                Name     Sex   Age  SibSp  \\\n",
       "0                            Braund, Mr. Owen Harris    male  22.0    1.0   \n",
       "1  Cumings, Mrs. John Bradley (Florence Briggs Th...  female  38.0    1.0   \n",
       "2                             Heikkinen, Miss. Laina  female  26.0    0.0   \n",
       "3       Futrelle, Mrs. Jacques Heath (Lily May Peel)  female  35.0    1.0   \n",
       "4                           Allen, Mr. William Henry    male  35.0    0.0   \n",
       "\n",
       "   Parch            Ticket     Fare  ... x0_female x0_male x1_C  x1_Q  x1_S  \\\n",
       "0    0.0         A/5 21171   7.2500  ...       0.0     1.0  0.0   0.0   1.0   \n",
       "1    0.0          PC 17599  71.2833  ...       1.0     0.0  1.0   0.0   0.0   \n",
       "2    0.0  STON/O2. 3101282   7.9250  ...       1.0     0.0  0.0   0.0   1.0   \n",
       "3    0.0            113803  53.1000  ...       1.0     0.0  0.0   0.0   1.0   \n",
       "4    0.0            373450   8.0500  ...       0.0     1.0  0.0   0.0   1.0   \n",
       "\n",
       "   x2_Master  x2_Miss  x2_Mr  x2_Mrs  x2_other  \n",
       "0        0.0      0.0    1.0     0.0       0.0  \n",
       "1        0.0      0.0    0.0     1.0       0.0  \n",
       "2        0.0      1.0    0.0     0.0       0.0  \n",
       "3        0.0      0.0    0.0     1.0       0.0  \n",
       "4        0.0      0.0    1.0     0.0       0.0  \n",
       "\n",
       "[5 rows x 23 columns]"
      ]
     },
     "execution_count": 20,
     "metadata": {},
     "output_type": "execute_result"
    }
   ],
   "source": [
    "df_train.head()"
   ]
  },
  {
   "cell_type": "code",
   "execution_count": 25,
   "id": "e2cd28ba",
   "metadata": {},
   "outputs": [
    {
     "data": {
      "text/plain": [
       "0       True\n",
       "1      False\n",
       "2       True\n",
       "3      False\n",
       "4       True\n",
       "       ...  \n",
       "886     True\n",
       "887    False\n",
       "888     True\n",
       "889    False\n",
       "890     True\n",
       "Name: Cabin, Length: 891, dtype: bool"
      ]
     },
     "execution_count": 25,
     "metadata": {},
     "output_type": "execute_result"
    }
   ],
   "source": [
    "df_train['Cabin'].isna()"
   ]
  },
  {
   "cell_type": "code",
   "execution_count": 23,
   "id": "765a9172",
   "metadata": {},
   "outputs": [
    {
     "data": {
      "text/plain": [
       "0      0\n",
       "1      1\n",
       "2      0\n",
       "3      1\n",
       "4      0\n",
       "      ..\n",
       "886    0\n",
       "887    1\n",
       "888    0\n",
       "889    1\n",
       "890    0\n",
       "Name: Cabin, Length: 891, dtype: int64"
      ]
     },
     "execution_count": 23,
     "metadata": {},
     "output_type": "execute_result"
    }
   ],
   "source": [
    "df_train['Cabin'].isna().apply(lambda x:int(not x))"
   ]
  },
  {
   "cell_type": "markdown",
   "id": "fb5b7888",
   "metadata": {},
   "source": [
    "# Lets try for is_cabin"
   ]
  },
  {
   "cell_type": "code",
   "execution_count": 26,
   "id": "2fdf3e23",
   "metadata": {},
   "outputs": [],
   "source": [
    "df_train['is_cabin'] = df_train['Cabin'].isna().apply(lambda X:int(not X))\n",
    "df_test['is_cabin'] = df_test['Cabin'].isna().apply(lambda X:int(not X))"
   ]
  },
  {
   "cell_type": "code",
   "execution_count": 27,
   "id": "dd32759c",
   "metadata": {},
   "outputs": [],
   "source": [
    "numeric_cols.append('is_cabin')"
   ]
  },
  {
   "cell_type": "markdown",
   "id": "bdfa1066",
   "metadata": {},
   "source": [
    "# Model Bulding"
   ]
  },
  {
   "cell_type": "code",
   "execution_count": 29,
   "id": "fefc071e",
   "metadata": {},
   "outputs": [],
   "source": [
    "from sklearn.ensemble import RandomForestClassifier\n",
    "from sklearn.model_selection import RandomizedSearchCV"
   ]
  },
  {
   "cell_type": "code",
   "execution_count": 30,
   "id": "f8906fb2",
   "metadata": {},
   "outputs": [
    {
     "data": {
      "text/plain": [
       "(['Pclass', 'Age', 'SibSp', 'Parch', 'Fare', 'is_cabin'],\n",
       " ['Sex', 'Embarked', 'Title'],\n",
       " ['x0_female',\n",
       "  'x0_male',\n",
       "  'x1_C',\n",
       "  'x1_Q',\n",
       "  'x1_S',\n",
       "  'x2_Master',\n",
       "  'x2_Miss',\n",
       "  'x2_Mr',\n",
       "  'x2_Mrs',\n",
       "  'x2_other'])"
      ]
     },
     "execution_count": 30,
     "metadata": {},
     "output_type": "execute_result"
    }
   ],
   "source": [
    "numeric_cols, cat_cols, new_cols"
   ]
  },
  {
   "cell_type": "code",
   "execution_count": 31,
   "id": "99a9d111",
   "metadata": {},
   "outputs": [
    {
     "data": {
      "text/plain": [
       "RandomizedSearchCV(cv=5, estimator=RandomForestClassifier(),\n",
       "                   param_distributions={'max_depth': [1, 2, 3, 4, 5],\n",
       "                                        'min_samples_leaf': [2, 4, 6, 8],\n",
       "                                        'n_estimators': [25, 50, 75, 100, 125,\n",
       "                                                         150, 175, 200]})"
      ]
     },
     "execution_count": 31,
     "metadata": {},
     "output_type": "execute_result"
    }
   ],
   "source": [
    "params = {'n_estimators':[25,50,75,100,125,150,175,200],\n",
    "          'max_depth':[1,2,3,4,5],\n",
    "          'min_samples_leaf':[2,4,6,8]}\n",
    "random_cv = RandomizedSearchCV(RandomForestClassifier(), params, cv=5)\n",
    "random_cv.fit(df_train[numeric_cols + new_cols], df_train['Survived'])"
   ]
  },
  {
   "cell_type": "code",
   "execution_count": 33,
   "id": "ba3575f3",
   "metadata": {},
   "outputs": [
    {
     "data": {
      "text/plain": [
       "RandomForestClassifier(max_depth=5, min_samples_leaf=4)"
      ]
     },
     "execution_count": 33,
     "metadata": {},
     "output_type": "execute_result"
    }
   ],
   "source": [
    "random_cv.best_estimator_"
   ]
  },
  {
   "cell_type": "code",
   "execution_count": 34,
   "id": "323c3be5",
   "metadata": {},
   "outputs": [],
   "source": [
    "model = random_cv.best_estimator_"
   ]
  },
  {
   "cell_type": "code",
   "execution_count": 35,
   "id": "8edb949e",
   "metadata": {},
   "outputs": [],
   "source": [
    "yp = model.predict(df_test[numeric_cols+new_cols])"
   ]
  },
  {
   "cell_type": "code",
   "execution_count": 36,
   "id": "a038ee61",
   "metadata": {},
   "outputs": [],
   "source": [
    "df_test['Survived'] = yp"
   ]
  },
  {
   "cell_type": "code",
   "execution_count": 37,
   "id": "51a17b80",
   "metadata": {},
   "outputs": [],
   "source": [
    "df_test[['PassengerId','Survived']].to_csv('sub_rf.csv', index=False)"
   ]
  },
  {
   "cell_type": "code",
   "execution_count": null,
   "id": "8ed559e6",
   "metadata": {},
   "outputs": [],
   "source": []
  }
 ],
 "metadata": {
  "kernelspec": {
   "display_name": "Python 3 (ipykernel)",
   "language": "python",
   "name": "python3"
  },
  "language_info": {
   "codemirror_mode": {
    "name": "ipython",
    "version": 3
   },
   "file_extension": ".py",
   "mimetype": "text/x-python",
   "name": "python",
   "nbconvert_exporter": "python",
   "pygments_lexer": "ipython3",
   "version": "3.10.9"
  }
 },
 "nbformat": 4,
 "nbformat_minor": 5
}
